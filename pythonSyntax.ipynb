{
  "cells": [
    {
      "cell_type": "markdown",
      "metadata": {
        "id": "view-in-github",
        "colab_type": "text"
      },
      "source": [
        "<a href=\"https://colab.research.google.com/github/ash1105git/Clase_opttiva/blob/main/pythonSyntax.ipynb\" target=\"_parent\"><img src=\"https://colab.research.google.com/assets/colab-badge.svg\" alt=\"Open In Colab\"/></a>"
      ]
    },
    {
      "cell_type": "markdown",
      "metadata": {
        "id": "AZBCAKmNuAuF"
      },
      "source": [
        "# Lesson 2. Basic Python Syntax\n",
        "- Basic Syntax and Data Types (numbers, strings, lists, tuples, dictionaries)\n",
        "- Declaring variables\n",
        "- Casting\n",
        "- Arithmetic, comparison, and logical operators\n",
        "- Operator precedence\n",
        "\n"
      ]
    },
    {
      "cell_type": "code",
      "execution_count": null,
      "metadata": {
        "id": "xsTI_P_ruAuK"
      },
      "outputs": [],
      "source": [
        "# First steps\n",
        "# Comments\n",
        "# This is a single-line comment\n",
        "\n",
        "\"\"\"\n",
        "This is a multi-line comment\n",
        "\"\"\""
      ]
    },
    {
      "cell_type": "markdown",
      "metadata": {
        "id": "696V_9L8uAuM"
      },
      "source": [
        "## Understanding Variables in Python\n",
        "\n",
        "Variables are fundamental to programming in Python. They are used to store data that can be referenced and manipulated throughout your code. Here’s a quick guide to understanding variables in Python:\n",
        "\n",
        "### What is a Variable?\n",
        "\n",
        "A variable is essentially a name that refers to a value. This value can be of various data types, such as integers, floating-point numbers, strings, lists, tuples, and dictionaries."
      ]
    },
    {
      "cell_type": "markdown",
      "metadata": {
        "id": "40MPgv0FuAuN"
      },
      "source": [
        "### Creating Variables\n",
        "\n",
        "In Python, you create a variable by assigning a value to it using the `=` operator. For example:"
      ]
    },
    {
      "cell_type": "code",
      "execution_count": null,
      "metadata": {
        "id": "M3fu7Bb3uAuO"
      },
      "outputs": [],
      "source": [
        "x = 10  # Integer\n",
        "y = 3.14  # Floating-point number\n",
        "z = \"Hello\"  # String"
      ]
    },
    {
      "cell_type": "markdown",
      "metadata": {
        "id": "PDkHTCpauAuP"
      },
      "source": [
        "### Variable Naming Rules\n",
        "\n",
        "When naming variables in Python, there are a few rules to keep in mind:\n",
        "- Variable names must start with a letter (a-z, A-Z) or an underscore (_).\n",
        "- The rest of the variable name can contain letters, numbers, or underscores.\n",
        "- Variable names are case-sensitive (e.g., `myVar` and `myvar` are different variables).\n",
        "\n",
        "### Common Data Types\n",
        "\n",
        "Here are some common data types you can use for variables in Python:\n",
        "\n",
        "- **Integer**: Whole numbers, e.g., `x = 10`\n",
        "- **Float**: Decimal numbers, e.g., `y = 3.14`\n",
        "- **String**: Text, e.g., `z = \"Hello\"`\n",
        "- **List**: Ordered collection of items, e.g., `my_list = [1, 2, 3]`\n",
        "- **Tuple**: Ordered, immutable collection of items, e.g., `my_tuple = (4, 5, 6)`\n",
        "- **Dictionary**: Collection of key-value pairs, e.g., `my_dict = {\"key1\": \"value1\", \"key2\": \"value2\"}`"
      ]
    },
    {
      "cell_type": "markdown",
      "metadata": {
        "id": "LfMTQ4EruAuP"
      },
      "source": [
        "### Printing Variables\n",
        "\n",
        "You can print the value of a variable using the `print()` function:"
      ]
    },
    {
      "cell_type": "code",
      "execution_count": null,
      "metadata": {
        "id": "xFufMbAYuAuQ"
      },
      "outputs": [],
      "source": [
        "print(x) # Print the value of x\n",
        "print(y) # Print the value of y\n",
        "print(z) # Print the value of z"
      ]
    },
    {
      "cell_type": "code",
      "execution_count": null,
      "metadata": {
        "id": "lyfx0pFyuAuR"
      },
      "outputs": [],
      "source": [
        "# Variables Example\n",
        "name = \"Alice\"\n",
        "age = 25\n",
        "favorite_color = \"blue\"\n",
        "favorite_fruits = [\"apple\", \"banana\", \"cherry\"]\n",
        "personal_info = {\"name\": \"Alice\", \"age\": 25, \"city\": \"Wonderland\"}"
      ]
    },
    {
      "cell_type": "code",
      "execution_count": null,
      "metadata": {
        "id": "XOFoHpkduAuR"
      },
      "outputs": [],
      "source": [
        "# Printing values\n",
        "print(f\"My name is {name}, I am {age} years old, and my favorite color is {favorite_color}.\")\n",
        "print(f\"My favorite fruits are: {favorite_fruits[0]} and {favorite_fruits[-1]}.\")\n",
        "print(f\"I live in {personal_info['city']}.\")"
      ]
    },
    {
      "cell_type": "code",
      "execution_count": null,
      "metadata": {
        "id": "2-QJ7uBvuAuS"
      },
      "outputs": [],
      "source": [
        "# More variables\n",
        "x = 10  # Integer\n",
        "y = 3.14  # Floating-point number\n",
        "z = \"Hello\"  # String\n",
        "my_list = [1, 2, 3]  # List\n",
        "my_tuple = (4, 5, 6)  # Tuple\n",
        "my_dict = {\"key1\": \"value1\", \"key2\": \"value2\"}  # Dictionary"
      ]
    },
    {
      "cell_type": "code",
      "execution_count": null,
      "metadata": {
        "id": "wCfZvXE8uAuS"
      },
      "outputs": [],
      "source": [
        "# Printing data types\n",
        "print(type(x))  # <class 'int'>\n",
        "print(type(y))  # <class 'float'>\n",
        "print(type(z))  # <class 'str'>\n",
        "print(type(my_list))  # <class 'list'>\n",
        "print(type(my_tuple))  # <class 'tuple'>"
      ]
    },
    {
      "cell_type": "code",
      "execution_count": null,
      "metadata": {
        "id": "uDa6yOAQuAuT"
      },
      "outputs": [],
      "source": [
        "# Printing values\n",
        "print(x)\n",
        "print(y)\n",
        "print(z)\n",
        "print(my_list)\n",
        "print(my_tuple)\n",
        "print(my_dict)"
      ]
    },
    {
      "cell_type": "markdown",
      "metadata": {
        "id": "u_sswkKRuAuT"
      },
      "source": [
        "## Data conversion (Casting)\n",
        "\n",
        "This module demonstrates type casting in Python.\n",
        "\n",
        "Type casting is the process of converting a variable from one type to another.\n",
        "Python provides several built-in functions for type casting, including:\n",
        "\n",
        "- `int()`: Converts a value to an integer.\n",
        "- `float()`: Converts a value to a floating-point number.\n",
        "- `str()`: Converts a value to a string.\n",
        "- `bool()`: Converts a value to a boolean.\n",
        "\n",
        "Examples:"
      ]
    },
    {
      "cell_type": "code",
      "execution_count": null,
      "metadata": {
        "id": "Khr26NsluAuU"
      },
      "outputs": [],
      "source": [
        "# Converting a string to a integer:\n",
        "num_str = \"10\"\n",
        "num_int = int(num_str)"
      ]
    },
    {
      "cell_type": "code",
      "execution_count": null,
      "metadata": {
        "id": "apRU6gORuAuU"
      },
      "outputs": [],
      "source": [
        "# Converting an integer to a float:\n",
        "num_int = 10\n",
        "num_float = float(num_int)"
      ]
    },
    {
      "cell_type": "code",
      "execution_count": null,
      "metadata": {
        "id": "vWb3VZ9EuAuV"
      },
      "outputs": [],
      "source": [
        "# Converting a float to a string:\n",
        "num_float = 10.5\n",
        "num_str = str(num_float)"
      ]
    },
    {
      "cell_type": "code",
      "execution_count": null,
      "metadata": {
        "id": "AWqUscm6uAuV"
      },
      "outputs": [],
      "source": [
        "# Converting a non-zero integer to a boolean:\n",
        "num_int = 1\n",
        "num_bool = bool(num_int)"
      ]
    },
    {
      "cell_type": "markdown",
      "metadata": {
        "id": "uAf-74CWuAuW"
      },
      "source": [
        "**Key points to emphasize:**\n",
        "\n",
        "- Implicit casting: Python automatically casts values in certain situations (e.g., when performing mathematical operations).\n",
        "- Explicit casting: You can explicitly cast values using functions like int(), float(), str(), etc.\n",
        "- Data type compatibility: Be aware of data type compatibility when performing operations (e.g., you can't add a string to an integer).\n",
        "\n",
        "Note:\n",
        "- When converting strings to numbers, ensure the string is a valid representation of the number.\n",
        "- Type casting can lead to data loss, especially when converting from float to int, as the decimal part will be truncated."
      ]
    },
    {
      "cell_type": "markdown",
      "metadata": {
        "id": "0SZ5Lv9UuAuW"
      },
      "source": [
        "## Arithmetic, Comparison, and Logical Operators in Python\n",
        "\n",
        "### Arithmetic Operators\n",
        "\n",
        "Arithmetic operators are used to perform mathematical operations such as addition, subtraction, multiplication, and division. Here are some common arithmetic operators in Python:\n",
        "\n",
        "- `+` : Addition\n",
        "- `-` : Subtraction\n",
        "- `*` : Multiplication\n",
        "- `/` : Division\n",
        "- `%` : Modulus (remainder of the division)\n",
        "- `**` : Exponentiation (power)\n",
        "- `//` : Floor division (division that rounds down to the nearest integer)"
      ]
    },
    {
      "cell_type": "code",
      "execution_count": null,
      "metadata": {
        "id": "T6bHcfYIuAuX"
      },
      "outputs": [],
      "source": [
        "#Example:\n",
        "\n",
        "a = 10\n",
        "b = 3\n",
        "\n",
        "print(a + b)  # 13\n",
        "print(a - b)  # 7\n",
        "print(a * b)  # 30\n",
        "print(a / b)  # 3.3333333333333335\n",
        "print(a % b)  # 1\n",
        "print(a ** b)  # 1000\n",
        "print(a // b)  # 3"
      ]
    },
    {
      "cell_type": "markdown",
      "metadata": {
        "id": "V-l_zOLKuAuY"
      },
      "source": [
        "### Comparison Operators\n",
        "\n",
        "Comparison operators are used to compare two values. They return a boolean value (`True` or `False`). Here are some common comparison operators in Python:\n",
        "\n",
        "- `==` : Equal to\n",
        "- `!=` : Not equal to\n",
        "- `>` : Greater than\n",
        "- `<` : Less than\n",
        "- `>=` : Greater than or equal to\n",
        "- `<=` : Less than or equal to"
      ]
    },
    {
      "cell_type": "code",
      "execution_count": null,
      "metadata": {
        "id": "z5KjVBXBuAuZ"
      },
      "outputs": [],
      "source": [
        "#Example:\n",
        "\n",
        "x = 5\n",
        "y = 10\n",
        "\n",
        "print(x == y)  # False\n",
        "print(x != y)  # True\n",
        "print(x > y)  # False\n",
        "print(x < y)  # True\n",
        "print(x >= y)  # False\n",
        "print(x <= y)  # True\n"
      ]
    },
    {
      "cell_type": "markdown",
      "metadata": {
        "id": "lPJPtnWfuAuZ"
      },
      "source": [
        "# Logical Operators\n",
        "\n",
        "Logical operators are used to combine conditional statements. Here are the logical operators in Python:\n",
        "\n",
        "- `and` : Returns `True` if both statements are true\n",
        "- `or` : Returns `True` if one of the statements is true\n",
        "- `not` : Reverses the result, returns `False` if the result is true"
      ]
    },
    {
      "cell_type": "code",
      "execution_count": null,
      "metadata": {
        "id": "LJCTkA0euAua"
      },
      "outputs": [],
      "source": [
        "#Example:\n",
        "\n",
        "a = True\n",
        "b = False\n",
        "\n",
        "print(a and b)  # False\n",
        "print(a or b)  # True\n",
        "print(not a)  # False"
      ]
    },
    {
      "cell_type": "markdown",
      "metadata": {
        "id": "dMfE8lP0uAua"
      },
      "source": [
        "Understanding these operators is crucial for performing various operations and making decisions in your Python programs."
      ]
    },
    {
      "cell_type": "markdown",
      "metadata": {
        "id": "gvMWfAcJuAua"
      },
      "source": [
        "## Operator Precedence in Python\n",
        "\n",
        "Operator precedence determines the order in which operations are performed in an expression. Operators with higher precedence are evaluated before operators with lower precedence. If operators have the same precedence, they are evaluated from left to right.\n",
        "\n",
        "### Precedence Table\n",
        "\n",
        "Here is a table of operators in Python, listed from highest to lowest precedence:\n",
        "\n",
        "1. **Parentheses**: `()`\n",
        "2. **Exponentiation**: `**`\n",
        "3. **Unary Plus, Unary Minus, and Bitwise NOT**: `+x`, `-x`, `~x`\n",
        "4. **Multiplication, Division, Floor Division, and Modulus**: `*`, `/`, `//`, `%`\n",
        "5. **Addition and Subtraction**: `+`, `-`\n",
        "6. **Bitwise Shift Operators**: `<<`, `>>`\n",
        "7. **Bitwise AND**: `&`\n",
        "8. **Bitwise XOR**: `^`\n",
        "9. **Bitwise OR**: `|`\n",
        "10. **Comparison Operators**: `==`, `!=`, `>`, `<`, `>=`, `<=`, `is`, `is not`, `in`, `not in`\n",
        "11. **Logical NOT**: `not`\n",
        "12. **Logical AND**: `and`\n",
        "13. **Logical OR**: `or`\n",
        "14. **Conditional Expressions**: `if - else`\n",
        "15. **Lambda Expressions**: `lambda`"
      ]
    },
    {
      "cell_type": "markdown",
      "metadata": {
        "id": "NJyCtjAGuAub"
      },
      "source": [
        "### Examples\n",
        "\n",
        "Here are some examples to illustrate operator precedence:"
      ]
    },
    {
      "cell_type": "code",
      "execution_count": null,
      "metadata": {
        "id": "bXRSt4d7uAub"
      },
      "outputs": [],
      "source": [
        "# Example 1: Parentheses\n",
        "result = (2 + 3) * 4  # Parentheses first, then multiplication\n",
        "print(result)  # Output: 20"
      ]
    },
    {
      "cell_type": "code",
      "execution_count": null,
      "metadata": {
        "id": "ru4y8S_juAub"
      },
      "outputs": [],
      "source": [
        "# Example 2: Exponentiation\n",
        "result = 2 ** 3 ** 2  # Exponentiation is right-associative\n",
        "print(result)  # Output: 512"
      ]
    },
    {
      "cell_type": "code",
      "execution_count": null,
      "metadata": {
        "id": "2HoCVAqKuAuc"
      },
      "outputs": [],
      "source": [
        "# Example 3: Mixed Operators\n",
        "result = 2 + 3 * 4  # Multiplication before addition\n",
        "print(result)  # Output: 14"
      ]
    },
    {
      "cell_type": "code",
      "execution_count": null,
      "metadata": {
        "id": "CT_O_5RRuAue"
      },
      "outputs": [],
      "source": [
        "# Example 4: Comparison and Logical Operators\n",
        "result = 3 < 4 and 4 < 5  # Comparison before logical AND\n",
        "print(result)  # Output: True"
      ]
    },
    {
      "cell_type": "markdown",
      "metadata": {
        "id": "_y0J0xWcuAuf"
      },
      "source": [
        "Understanding operator precedence is crucial for writing correct and efficient Python code. When in doubt, use parentheses to make the order of operations explicit and improve code readability."
      ]
    },
    {
      "cell_type": "markdown",
      "metadata": {
        "id": "Cx3D0yiSuAug"
      },
      "source": [
        "Exercise:\n",
        "\n",
        "    1. Create variables for your name, age, and favorite color.\n",
        "    2. Print a message using these variables.\n",
        "    3. Create a list of your favorite fruits.\n",
        "    4. Access the first and last elements of the list.\n",
        "    5. Create a dictionary with your personal information (name, age, city).\n",
        "    6. Access the value of the \"city\" key.\n",
        "    7. Perform the following arithmetic operations and store the results in variables:\n",
        "        a. Add 15 and 7\n",
        "        b. Subtract 10 from 25\n",
        "        c. Multiply 3 by 8\n",
        "        d. Divide 56 by 7\n",
        "        e. Find the remainder of 29 divided by 5\n",
        "        f. Raise 2 to the power of 3\n",
        "    8. Use comparison operators to compare the following pairs of values and store the results in variables:\n",
        "        a. Check if 10 is equal to 10\n",
        "        b. Check if 15 is not equal to 20\n",
        "        c. Check if 7 is greater than 5\n",
        "        d. Check if 3 is less than 8\n",
        "        e. Check if 12 is greater than or equal to 12\n",
        "        f. Check if 9 is less than or equal to 10\n",
        "\n",
        "    9. Use logical operators to evaluate the following expressions and store the results in variables:\n",
        "        a. Check if both 5 is greater than 3 and 8 is less than 10\n",
        "        b. Check if either 7 is equal to 7 or 4 is equal to 5\n",
        "        c. Check if not 6 is greater than 2\n",
        "    10. Evaluate the following expressions and store the results in variables:\n",
        "        a. (3 + 5) * 2\n",
        "        b. 2 ** 3 ** 2\n",
        "        c. 10 + 5 * 2\n",
        "        d. (4 + 6) / 2\n",
        "        e. 7 + 3 * 2 - 1\n",
        "        f. 8 / 2 ** 2\n",
        "        g. (2 + 3) * (4 - 1)\n",
        "        h. 5 + 4 * 3 - 2 / 1"
      ]
    },
    {
      "cell_type": "code",
      "execution_count": null,
      "metadata": {
        "colab": {
          "base_uri": "https://localhost:8080/"
        },
        "id": "6WBAgsS8uAug",
        "outputId": "ebadf76d-e1d7-4739-cc96-effd62b84fa0"
      },
      "outputs": [
        {
          "output_type": "stream",
          "name": "stdout",
          "text": [
            "My name is ash, I am 19 years old, and my favorite color is White.\n"
          ]
        }
      ],
      "source": [
        "# Let's practice\n",
        "# 1. Create variables for your name, age, and favorite color.\n",
        "\n",
        "nombre = \"ash\"\n",
        "edad = 19\n",
        "favorite_color = \"White\"\n"
      ]
    },
    {
      "cell_type": "code",
      "source": [
        "#2. Print a message using these variables.\n",
        "\n",
        "print(f\"My name is {nombre}, I am {edad} years old, and my favorite color is {favorite_color}.\")"
      ],
      "metadata": {
        "colab": {
          "base_uri": "https://localhost:8080/"
        },
        "id": "blIZM3HeviKz",
        "outputId": "bc305379-2930-4562-d6a5-8c3d02ffc9e8"
      },
      "execution_count": null,
      "outputs": [
        {
          "output_type": "stream",
          "name": "stdout",
          "text": [
            "My name is ash, I am 19 years old, and my favorite color is White.\n"
          ]
        }
      ]
    },
    {
      "cell_type": "code",
      "source": [
        "# 3. Create a list of your favorite fruits.\n",
        "\n",
        "favorite_fruits = [\"apple\", \"banana\", \"cherry\", \"orange\", \"mango\"]\n",
        "print(favorite_fruits)\n"
      ],
      "metadata": {
        "id": "V6-K4ARvvsXB",
        "colab": {
          "base_uri": "https://localhost:8080/"
        },
        "outputId": "1250197d-7cb6-4b7c-d6d8-624413586871"
      },
      "execution_count": null,
      "outputs": [
        {
          "output_type": "stream",
          "name": "stdout",
          "text": [
            "['apple', 'banana', 'cherry', 'orange', 'mango']\n"
          ]
        }
      ]
    },
    {
      "cell_type": "code",
      "source": [
        "  # 4. Access the first and last elements of the list.\n",
        "\n",
        "  print(favorite_fruits[0])\n",
        "  print(favorite_fruits[-1])"
      ],
      "metadata": {
        "colab": {
          "base_uri": "https://localhost:8080/"
        },
        "id": "WX4Ar36DK7aj",
        "outputId": "ea11e0cd-176f-4ebc-c758-6218d49cf208"
      },
      "execution_count": null,
      "outputs": [
        {
          "output_type": "stream",
          "name": "stdout",
          "text": [
            "apple\n",
            "mango\n"
          ]
        }
      ]
    },
    {
      "cell_type": "code",
      "source": [
        "# 5. Create a dictionary with your personal information (name, age, city).\n",
        "\n",
        "personal_info = {\"name\": \"ash\", \"age\": 19, \"city\": \"Pereira\"}\n",
        "print(personal_info)"
      ],
      "metadata": {
        "colab": {
          "base_uri": "https://localhost:8080/"
        },
        "id": "LbRVHLSWLJu0",
        "outputId": "d1fa6dd0-92bb-4d4f-d4b1-58e2d3ecd054"
      },
      "execution_count": null,
      "outputs": [
        {
          "output_type": "stream",
          "name": "stdout",
          "text": [
            "{'name': 'ash', 'age': 19, 'city': 'Pereira'}\n"
          ]
        }
      ]
    },
    {
      "cell_type": "code",
      "source": [
        "# 6. Access the value of the \"city\" key.\n",
        "\n",
        "print(personal_info[\"city\"])"
      ],
      "metadata": {
        "colab": {
          "base_uri": "https://localhost:8080/"
        },
        "id": "NqikCm-cLdu1",
        "outputId": "ff5e6e8a-011d-4f3b-8a33-840c0b99adc7"
      },
      "execution_count": null,
      "outputs": [
        {
          "output_type": "stream",
          "name": "stdout",
          "text": [
            "Pereira\n"
          ]
        }
      ]
    },
    {
      "cell_type": "code",
      "source": [
        "# 7. Perform the following arithmetic operations and store the results in variables:\n",
        " #   a. Add 15 and 7\n",
        "\n",
        "add = 15 + 7\n",
        "print(f\"a. Add 15 and 7: {add}\")\n",
        "\n",
        "# b. Subtract 10 from 25\n",
        "\n",
        "sub = 25 - 10\n",
        "print(f\"b. Subtract 10 from 25: {sub}\")\n",
        "\n",
        "# c. Multiply 3 by 8\n",
        "\n",
        "mul = 3 * 8\n",
        "print(f\"c. Multiply 3 by 8: {mul}\")\n",
        "\n",
        "# d. Divide 56 by 7\n",
        "\n",
        "div = 56 / 7\n",
        "print(f\"d. Divide 56 by 7: {div}\")\n",
        "\n",
        "# e. Find the remainder of 29 divided by 5\n",
        "\n",
        "rem = 29 % 5\n",
        "print(f\"e. Find the remainder of 29 divided by 5: {rem}\")\n",
        "\n",
        "# f. Raise 2 to the power of 3\n",
        "\n",
        "pow = 2 ** 3\n",
        "print(f\"f. Raise 2 to the power of 3: {pow}\")\n",
        "\n"
      ],
      "metadata": {
        "colab": {
          "base_uri": "https://localhost:8080/"
        },
        "id": "wFoveZQiLnQA",
        "outputId": "43eaa43a-a63b-484d-e0f0-1fd05fbd360f"
      },
      "execution_count": null,
      "outputs": [
        {
          "output_type": "stream",
          "name": "stdout",
          "text": [
            "a. Add 15 and 7: 22\n",
            "b. Subtract 10 from 25: 15\n",
            "c. Multiply 3 by 8: 24\n",
            "d. Divide 56 by 7: 8.0\n",
            "e. Find the remainder of 29 divided by 5: 4\n",
            "f. Raise 2 to the power of 3: 8\n"
          ]
        }
      ]
    },
    {
      "cell_type": "code",
      "source": [
        "#8. Use comparison operators to compare the following pairs of values and store the results in variables:\n",
        " #   a. Check if 10 is equal to 10\n",
        "\n",
        "a = 10\n",
        "b = 10\n",
        "print(f\"a. Check if 10 is equal to 10: {(a == b)}\")\n",
        "\n"
      ],
      "metadata": {
        "colab": {
          "base_uri": "https://localhost:8080/"
        },
        "id": "Js4Q671BNeTb",
        "outputId": "2c078288-5787-428c-9916-7548b2c4160b"
      },
      "execution_count": null,
      "outputs": [
        {
          "output_type": "stream",
          "name": "stdout",
          "text": [
            "a. Check if 10 is equal to 10: True\n"
          ]
        }
      ]
    },
    {
      "cell_type": "code",
      "source": [
        "# b. Check if 15 is not equal to 20\n",
        "\n",
        "a = 15\n",
        "b = 20\n",
        "print(f\"b. Check if 15 is not equal to 20: {(a != b)}\")"
      ],
      "metadata": {
        "colab": {
          "base_uri": "https://localhost:8080/"
        },
        "id": "L2-f0VL3TjUX",
        "outputId": "b4341020-9300-48d5-c747-a4a0e23ecf46"
      },
      "execution_count": null,
      "outputs": [
        {
          "output_type": "stream",
          "name": "stdout",
          "text": [
            "b. Check if 15 is not equal to 20: True\n"
          ]
        }
      ]
    },
    {
      "cell_type": "code",
      "source": [
        "#  c. Check if 7 is greater than 5\n",
        "\n",
        "a = 7\n",
        "b = 5\n",
        "print(f\"c. Check if 7 is greater than 5: {(a > b)}\")\n"
      ],
      "metadata": {
        "colab": {
          "base_uri": "https://localhost:8080/"
        },
        "id": "7iVM6v56Vl5q",
        "outputId": "3d6706ee-bf98-433f-ac5c-5edc511531ee"
      },
      "execution_count": null,
      "outputs": [
        {
          "output_type": "stream",
          "name": "stdout",
          "text": [
            "c. Check if 7 is greater than 5: True\n"
          ]
        }
      ]
    },
    {
      "cell_type": "code",
      "source": [
        "#     d. Check if 3 is less than 8\n",
        "\n",
        "a = 3\n",
        "b = 8\n",
        "print(f\"d. Check if 3 is less than 8: {(a < b)}\")\n"
      ],
      "metadata": {
        "colab": {
          "base_uri": "https://localhost:8080/"
        },
        "id": "q7A5Gtw6ZTKs",
        "outputId": "6758ae5a-5e03-40fe-cdbe-6d43626af4e6"
      },
      "execution_count": null,
      "outputs": [
        {
          "output_type": "stream",
          "name": "stdout",
          "text": [
            "d. Check if 3 is less than 8: True\n"
          ]
        }
      ]
    },
    {
      "cell_type": "code",
      "source": [
        "# e. Check if 12 is greater than or equal to 12\n",
        "\n",
        "a = 12\n",
        "b = 12\n",
        "print(f\"e. Check if 12 is greater than or equal to 12: {(a >= b)}\")"
      ],
      "metadata": {
        "colab": {
          "base_uri": "https://localhost:8080/"
        },
        "id": "bOO-MzBdZcSq",
        "outputId": "e7f93b0a-ee3c-4afd-990d-fc06ac3d271e"
      },
      "execution_count": null,
      "outputs": [
        {
          "output_type": "stream",
          "name": "stdout",
          "text": [
            "e. Check if 12 is greater than or equal to 12: True\n"
          ]
        }
      ]
    },
    {
      "cell_type": "code",
      "source": [
        "# f. Check if 9 is less than or equal to 10\n",
        "\n",
        "a = 9\n",
        "b = 10\n",
        "print(f\"f. Check if 9 is less than or equal to 10: {(a <= b)}\")"
      ],
      "metadata": {
        "colab": {
          "base_uri": "https://localhost:8080/"
        },
        "id": "Fl2jZESpZpMp",
        "outputId": "a9488ede-49b4-477f-9e3b-1b14f131f654"
      },
      "execution_count": null,
      "outputs": [
        {
          "output_type": "stream",
          "name": "stdout",
          "text": [
            "f. Check if 9 is less than or equal to 10: True\n"
          ]
        }
      ]
    },
    {
      "cell_type": "code",
      "source": [
        "# 9. Use logical operators to evaluate the following expressions and store the results in variables:\n",
        "   # a. Check if both 5 is greater than 3 and 8 is less than 10\n",
        "\n",
        "\n",
        "\n",
        "\n",
        "\n"
      ],
      "metadata": {
        "id": "F7VPljdy2LNk"
      },
      "execution_count": null,
      "outputs": []
    }
  ],
  "metadata": {
    "kernelspec": {
      "display_name": "Python 3",
      "language": "python",
      "name": "python3"
    },
    "language_info": {
      "name": "python",
      "version": "3.12.3"
    },
    "colab": {
      "provenance": [],
      "include_colab_link": true
    }
  },
  "nbformat": 4,
  "nbformat_minor": 0
}